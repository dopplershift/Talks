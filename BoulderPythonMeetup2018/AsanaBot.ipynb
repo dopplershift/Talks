{
 "cells": [
  {
   "cell_type": "markdown",
   "metadata": {
    "slideshow": {
     "slide_type": "slide"
    }
   },
   "source": [
    "<center>\n",
    "<h1>Writing a GitHub webhook in Python: the birth of AsanaBot</h1>\n",
    "<br>\n",
    "<h3>13 February 2018\n",
    "<br>\n",
    "<br>\n",
    "Ryan May (@dopplershift)\n",
    "<br><br>\n",
    "UCAR/Unidata</h3>\n",
    "</center>"
   ]
  },
  {
   "cell_type": "markdown",
   "metadata": {
    "slideshow": {
     "slide_type": "subslide"
    }
   },
   "source": [
    "* Once upon a time I got to spend all of my time writing code\n",
    "* GitHub issues worked great for tracking my todo list"
   ]
  },
  {
   "cell_type": "markdown",
   "metadata": {
    "slideshow": {
     "slide_type": "fragment"
    }
   },
   "source": [
    "...and life was happy."
   ]
  },
  {
   "cell_type": "markdown",
   "metadata": {
    "slideshow": {
     "slide_type": "subslide"
    }
   },
   "source": [
    "* Now my team spends a lot more time tracking \"other\" kinds of work\n",
    "* This has necessitated other solutions"
   ]
  },
  {
   "cell_type": "markdown",
   "metadata": {
    "slideshow": {
     "slide_type": "fragment"
    }
   },
   "source": [
    "Enter Asana."
   ]
  },
  {
   "cell_type": "markdown",
   "metadata": {
    "slideshow": {
     "slide_type": "subslide"
    }
   },
   "source": [
    "![Asana](./Asana-tasks.png)"
   ]
  },
  {
   "cell_type": "markdown",
   "metadata": {
    "slideshow": {
     "slide_type": "subslide"
    }
   },
   "source": [
    "* Great for collaboratively managing our TODO list...\n",
    "* ...but now we have to manually enter GitHub issues into Asana"
   ]
  },
  {
   "cell_type": "markdown",
   "metadata": {
    "slideshow": {
     "slide_type": "fragment"
    }
   },
   "source": [
    "Well that's not going to happen."
   ]
  },
  {
   "cell_type": "markdown",
   "metadata": {
    "slideshow": {
     "slide_type": "fragment"
    }
   },
   "source": [
    "Idea: \"You know, PyGithub and asana-python exist...\""
   ]
  },
  {
   "cell_type": "markdown",
   "metadata": {
    "slideshow": {
     "slide_type": "slide"
    }
   },
   "source": [
    "# Phase 1: ~~Collect Underwear~~ Send Things to Asana"
   ]
  },
  {
   "cell_type": "markdown",
   "metadata": {
    "slideshow": {
     "slide_type": "subslide"
    }
   },
   "source": [
    "* GitHub Python library can readily give me the issues for a repo"
   ]
  },
  {
   "cell_type": "markdown",
   "metadata": {
    "slideshow": {
     "slide_type": "fragment"
    }
   },
   "source": [
    "```python\n",
    "import github\n",
    "gh_client = github.Github(GITHUB_TOKEN)\n",
    "org = gh_client.get_organization('Unidata')\n",
    "repo = org.get_repo('MetPy')\n",
    "for issue in repo.get_issues()\n",
    "    sync_task(issue)\n",
    "```"
   ]
  },
  {
   "cell_type": "markdown",
   "metadata": {
    "slideshow": {
     "slide_type": "subslide"
    }
   },
   "source": [
    "* Asana can create a task with a custom ID--if you're using OAuth\n",
    "* Can create new task or update existing"
   ]
  },
  {
   "cell_type": "markdown",
   "metadata": {
    "slideshow": {
     "slide_type": "subslide"
    }
   },
   "source": [
    "```python\n",
    "# Body of sync_task\n",
    "client = get_asana_client()  # OAuth stuff\n",
    "task_id = ('{0.org}-{0.repository}-{0.number:d}'\n",
    "           .format(issue))\n",
    "try:\n",
    "    workspace = find_workspace(org)\n",
    "    params = {'external': {'id': task_id},\n",
    "              'name': ('{0.title} (#{0.number})'\n",
    "                       .format(issue))}\n",
    "    client.tasks.create_in_workspace(workspace,\n",
    "                                     params)\n",
    "except asana.error.InvalidRequest:# Already exists\n",
    "    task = client.tasks.find_by_id('external:' + task_id)\n",
    "    attrs = {'completed': issue.state == 'closed'}\n",
    "    client.tasks.update(task['id'], attrs)\n",
    "```"
   ]
  },
  {
   "cell_type": "markdown",
   "metadata": {
    "slideshow": {
     "slide_type": "subslide"
    }
   },
   "source": [
    "Not shown:\n",
    "* Details of OAuth\n",
    "* More pulling apart the issues\n",
    "* How to decide whether we need a new issue\n",
    "* Matching org -> workspace, repo -> project\n",
    "* Matching assignees"
   ]
  },
  {
   "cell_type": "markdown",
   "metadata": {
    "slideshow": {
     "slide_type": "fragment"
    }
   },
   "source": [
    "Ok, so we can do this part. Now how do we automate it..."
   ]
  },
  {
   "cell_type": "markdown",
   "metadata": {
    "slideshow": {
     "slide_type": "slide"
    }
   },
   "source": [
    "# Phase 2: ~~???~~ How do I automate this thing?"
   ]
  },
  {
   "cell_type": "markdown",
   "metadata": {
    "slideshow": {
     "slide_type": "subslide"
    }
   },
   "source": [
    "## Attempt #1: Heroku\n",
    "\n",
    "* Easy deployment of Flask apps\n",
    "* Just add a `requirements.txt` and a `Procfile`\n",
    "* Can even hook up to GitHub to auto deploy"
   ]
  },
  {
   "cell_type": "markdown",
   "metadata": {
    "slideshow": {
     "slide_type": "subslide"
    }
   },
   "source": [
    "```python\n",
    "from flask import Flask, jsonify, request\n",
    "app = Flask('asana-bot')\n",
    "\n",
    "@app.route('/hooks/github', methods=['POST'])\n",
    "def sync():\n",
    "    try:\n",
    "        issue = issue_from_json(request.get_json())\n",
    "        task = sync_issue(issue)  # same as before\n",
    "    except Exception:\n",
    "        task = {'message': 'Not an event for me.'}\n",
    "    return jsonify(task)\n",
    "```"
   ]
  },
  {
   "cell_type": "markdown",
   "metadata": {
    "slideshow": {
     "slide_type": "fragment"
    }
   },
   "source": [
    "Not shown:\n",
    "* Error handling\n",
    "* Turning json payload into an issue--no need for GitHub API"
   ]
  },
  {
   "cell_type": "markdown",
   "metadata": {
    "slideshow": {
     "slide_type": "subslide"
    }
   },
   "source": [
    "Of course, this requires *manually* adding a webhook to each repository..."
   ]
  },
  {
   "cell_type": "markdown",
   "metadata": {},
   "source": [
    "\"...but you know, you can make GitHub apps...\""
   ]
  },
  {
   "cell_type": "markdown",
   "metadata": {
    "slideshow": {
     "slide_type": "subslide"
    }
   },
   "source": [
    "![GitHub App Creation 1](./github-app1.png)"
   ]
  },
  {
   "cell_type": "markdown",
   "metadata": {
    "slideshow": {
     "slide_type": "subslide"
    }
   },
   "source": [
    "![Github App Creation 2](./github-app2.png)"
   ]
  },
  {
   "cell_type": "markdown",
   "metadata": {
    "slideshow": {
     "slide_type": "subslide"
    }
   },
   "source": [
    "![Github App Creation 3](./github-app3.png)"
   ]
  },
  {
   "cell_type": "markdown",
   "metadata": {
    "slideshow": {
     "slide_type": "subslide"
    }
   },
   "source": [
    "Great! Now we have an app where we can easily control what repos are hooked up to the app. So we're done, right?"
   ]
  },
  {
   "cell_type": "markdown",
   "metadata": {
    "slideshow": {
     "slide_type": "fragment"
    }
   },
   "source": [
    "![Delivery Failure](delivery-failure.png)"
   ]
  },
  {
   "cell_type": "markdown",
   "metadata": {
    "slideshow": {
     "slide_type": "fragment"
    }
   },
   "source": [
    "![Timeout](timeout.png)"
   ]
  },
  {
   "cell_type": "markdown",
   "metadata": {
    "slideshow": {
     "slide_type": "subslide"
    }
   },
   "source": [
    "* So it turns out GitHub times out on delivering webhooks after 10 seconds..."
   ]
  },
  {
   "cell_type": "markdown",
   "metadata": {
    "slideshow": {
     "slide_type": "fragment"
    }
   },
   "source": [
    "* ...and Heroku can take 30s turn your machine back on"
   ]
  },
  {
   "cell_type": "markdown",
   "metadata": {
    "slideshow": {
     "slide_type": "fragment"
    }
   },
   "source": [
    "\"Ok, well I did kind of want to learn about AWS Lambda & API Gateway\""
   ]
  },
  {
   "cell_type": "markdown",
   "metadata": {
    "slideshow": {
     "slide_type": "slide"
    }
   },
   "source": [
    "## Attempt #2: Chalice\n",
    "\n",
    "* Chalice is tool from AWS to simplify deployment of \"serverless\" apps\n",
    "* API Gateway\n",
    "  - AWS gives you an address to point at\n",
    "  - You can map requests to various routes (e.g. `/my/hook`) to other AWS services\n",
    "* Lambda\n",
    "  - Short, on-demand computing\n",
    "  - Builed at 100ms increments; \"permanent\" free tier is 400,000 Gb-seconds"
   ]
  },
  {
   "cell_type": "markdown",
   "metadata": {
    "slideshow": {
     "slide_type": "subslide"
    }
   },
   "source": [
    "* Chalice provides its own (somewhat) flask-like web framework\n",
    "* Handles\n",
    "  - Collecting code and dependencies\n",
    "  - Setting up permissions\n",
    "  - Creating API Gateway routes"
   ]
  },
  {
   "cell_type": "markdown",
   "metadata": {
    "slideshow": {
     "slide_type": "fragment"
    }
   },
   "source": [
    "```bash\n",
    "> chalice new-project helloworld\n",
    "# edit some code\n",
    "> chalice deploy\n",
    "...\n",
    "Initiating first time deployment...\n",
    "https://qxea58oupc.execute-api.us-west-2.amazonaws.com/api/\n",
    "\n",
    "# edit more code\n",
    "> chalice deploy\n",
    "```"
   ]
  },
  {
   "cell_type": "markdown",
   "metadata": {
    "slideshow": {
     "slide_type": "subslide"
    }
   },
   "source": [
    "* Simple and slick\n",
    "* Requires moving away from flask\n",
    "\n",
    "\"Ok, now let me play with allowing users to authenticate to my app...What do you mean this framework doesn't have a session object?\""
   ]
  },
  {
   "cell_type": "markdown",
   "metadata": {
    "slideshow": {
     "slide_type": "fragment"
    }
   },
   "source": [
    "* The web framework within Chalice is very lightweight...\n",
    "* ...which means it doesn't have the full power of flask"
   ]
  },
  {
   "cell_type": "markdown",
   "metadata": {
    "slideshow": {
     "slide_type": "slide"
    }
   },
   "source": [
    "## Attempt #3: Zappa\n",
    "\n",
    "* Zappa is another, unofficial AWS \"serverless\" tool\n",
    "* Positives:\n",
    "  * Works with any WSGI app--like flask\n",
    "  * Does everything Chalice does\n",
    "  * Requires less invasive changes to app/repo\n",
    "  * Has feature to keep lambda \"warm\"\n",
    "* Less good:\n",
    "  * Requires virtual environments--WILL NOT work with conda\n",
    "  * Default AWS permissions includes permissions for almost every service\n",
    "  * API Gateway handler seems pretty brute force"
   ]
  },
  {
   "cell_type": "markdown",
   "metadata": {
    "slideshow": {
     "slide_type": "subslide"
    }
   },
   "source": [
    "![Zappa](zappa.gif)"
   ]
  },
  {
   "cell_type": "markdown",
   "metadata": {
    "slideshow": {
     "slide_type": "fragment"
    }
   },
   "source": [
    "* You can disable Zappa's handling of permissions\n",
    "* Having flask means you need it and all of its dependencies in deployment"
   ]
  },
  {
   "cell_type": "markdown",
   "metadata": {
    "slideshow": {
     "slide_type": "slide"
    }
   },
   "source": [
    "# Phase 3: Profit!"
   ]
  },
  {
   "cell_type": "markdown",
   "metadata": {},
   "source": [
    "* I have a working GitHub Application\n",
    "* Running on AWS API Gateway/Lambda\n",
    "* Syncing Issues/PRs between GitHub and Asana\n",
    "* 383 total lines of code, including whitespace and comments"
   ]
  },
  {
   "cell_type": "markdown",
   "metadata": {
    "slideshow": {
     "slide_type": "subslide"
    }
   },
   "source": [
    "## Heroku vs. AWS\n",
    "\n",
    "* Heroku\n",
    "  - Easy to set up and make work\n",
    "  - Easy deployment from GitHub\n",
    "  - Free tier goes to sleep after inactivity...and takes some time to come back\n",
    "  - $7/month for a dyno...that probably would have been the cost effective option\n",
    "* AWS \"serverless\"\n",
    "  - This bot will never expend more than 1% of our free tier\n",
    "  - Bigger learning curve...\n",
    "  - ...but I feel like this has been really useful to learn\n",
    "  - Instead of plugging together libraries, I'm plugging together AWS services"
   ]
  },
  {
   "cell_type": "markdown",
   "metadata": {
    "slideshow": {
     "slide_type": "subslide"
    }
   },
   "source": [
    "## Chalice vs. Zappa\n",
    "\n",
    "* Chalice\n",
    "  - Lightweight (~700kb deploy package)\n",
    "  - Better handling of AWS (surprise, surprise)\n",
    "  - Very simple web framework\n",
    "* Zappa\n",
    "  - Crude/Brute force AWS set up\n",
    "    - Ensures success in getting things working\n",
    "    - Not \"production\" out of the box\n",
    "  - Full WSGI support\n",
    "  - Heavier weight (~6Mb deploy package)"
   ]
  },
  {
   "cell_type": "markdown",
   "metadata": {
    "slideshow": {
     "slide_type": "subslide"
    }
   },
   "source": [
    "## Future work\n",
    "* Async using AWS Simple Notification Service\n",
    "* Configuration of repositories\n",
    "* GitHub user logins\n",
    "* Storing various keys and secrets on KMS...rather than my laptop\n",
    "* Automatic deployment on pushes to GitHub"
   ]
  },
  {
   "cell_type": "markdown",
   "metadata": {
    "slideshow": {
     "slide_type": "slide"
    }
   },
   "source": [
    "<center>\n",
    "<h1>Questions?</h1>\n",
    "</center>\n",
    "Resources:\n",
    "* Slides: https://github.com/dopplershift/Talks/\n",
    "* AsanaBot: https://github.com/Unidata/AsanaBot\n",
    "* Chalice: https://github.com/aws/chalice\n",
    "* Zappa: https://www.zappa.io\n",
    "* PyGithub: https://github.com/PyGithub/PyGithub\n",
    "* Asana API: https://github.com/Asana/python-asana"
   ]
  }
 ],
 "metadata": {
  "celltoolbar": "Slideshow",
  "kernelspec": {
   "display_name": "Python [conda env:py36]",
   "language": "python",
   "name": "conda-env-py36-py"
  },
  "language_info": {
   "codemirror_mode": {
    "name": "ipython",
    "version": 3
   },
   "file_extension": ".py",
   "mimetype": "text/x-python",
   "name": "python",
   "nbconvert_exporter": "python",
   "pygments_lexer": "ipython3",
   "version": "3.6.4"
  }
 },
 "nbformat": 4,
 "nbformat_minor": 2
}
